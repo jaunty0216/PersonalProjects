{
  "nbformat": 4,
  "nbformat_minor": 0,
  "metadata": {
    "colab": {
      "provenance": [],
      "collapsed_sections": [
        "FUvMy08l_BwB",
        "ZB8susTE_aVL",
        "F83g8lDW_acF",
        "0mrF9JYt_afQ"
      ],
      "toc_visible": true,
      "authorship_tag": "ABX9TyOJ712xUTcQTyfNpdWHIDQ7",
      "include_colab_link": true
    },
    "kernelspec": {
      "name": "python3",
      "display_name": "Python 3"
    },
    "language_info": {
      "name": "python"
    }
  },
  "cells": [
    {
      "cell_type": "markdown",
      "metadata": {
        "id": "view-in-github",
        "colab_type": "text"
      },
      "source": [
        "<a href=\"https://colab.research.google.com/github/jaunty0216/PersonalProjects/blob/main/%E7%89%A9%E7%90%86%E8%A3%BD%E5%9C%96%E5%B8%B8%E7%94%A8%E7%A8%8B%E5%BC%8F%E7%A2%BC.ipynb\" target=\"_parent\"><img src=\"https://colab.research.google.com/assets/colab-badge.svg\" alt=\"Open In Colab\"/></a>"
      ]
    },
    {
      "cell_type": "markdown",
      "source": [
        "# 開頭\n",
        "這邊主要說明了常用於物理製圖用的程式碼展示"
      ],
      "metadata": {
        "id": "ygNxKJy8-Uog"
      }
    },
    {
      "cell_type": "markdown",
      "source": [
        "#**函式庫**\n",
        "> 1. *numpy*🧮\n",
        "2. *matplotlib*🎨\n",
        "3. *scipy*📐\n",
        "4. *panda*📝"
      ],
      "metadata": {
        "id": "x00WGCdf_GKA"
      }
    },
    {
      "cell_type": "markdown",
      "source": [
        "##**Numpy**"
      ],
      "metadata": {
        "id": "FUvMy08l_BwB"
      }
    },
    {
      "cell_type": "markdown",
      "source": [
        "###*showcase1*"
      ],
      "metadata": {
        "id": "08ZugcPg_rbg"
      }
    },
    {
      "cell_type": "code",
      "source": [
        "print(\"this is numpy\")"
      ],
      "metadata": {
        "colab": {
          "base_uri": "https://localhost:8080/"
        },
        "id": "HxrS-xfw_9T3",
        "outputId": "32f7b2b4-c2c9-4879-8767-360cf82c946c"
      },
      "execution_count": 7,
      "outputs": [
        {
          "output_type": "stream",
          "name": "stdout",
          "text": [
            "this is numpy\n"
          ]
        }
      ]
    },
    {
      "cell_type": "markdown",
      "source": [
        "##**Matplotlib**"
      ],
      "metadata": {
        "id": "ZB8susTE_aVL"
      }
    },
    {
      "cell_type": "markdown",
      "source": [
        "###*showcase2*"
      ],
      "metadata": {
        "id": "Jgt-htUAAutQ"
      }
    },
    {
      "cell_type": "code",
      "source": [
        "print(\"this is matplotlib.\")"
      ],
      "metadata": {
        "colab": {
          "base_uri": "https://localhost:8080/"
        },
        "id": "UTViuybDA4j_",
        "outputId": "67231775-8339-4b1e-a066-2959daca4962"
      },
      "execution_count": 8,
      "outputs": [
        {
          "output_type": "stream",
          "name": "stdout",
          "text": [
            "this is matplotlib.\n"
          ]
        }
      ]
    },
    {
      "cell_type": "markdown",
      "source": [
        "##**Scipy**"
      ],
      "metadata": {
        "id": "F83g8lDW_acF"
      }
    },
    {
      "cell_type": "markdown",
      "source": [
        "###*showcase3*"
      ],
      "metadata": {
        "id": "QY46aI2MA_rn"
      }
    },
    {
      "cell_type": "code",
      "source": [
        "print(\"this is scipy.\")"
      ],
      "metadata": {
        "colab": {
          "base_uri": "https://localhost:8080/"
        },
        "id": "ClB8JgexBB1X",
        "outputId": "97e02140-4977-4675-966e-74300c9d0587"
      },
      "execution_count": 9,
      "outputs": [
        {
          "output_type": "stream",
          "name": "stdout",
          "text": [
            "this is scipy.\n"
          ]
        }
      ]
    },
    {
      "cell_type": "markdown",
      "source": [
        "##**Panda**"
      ],
      "metadata": {
        "id": "0mrF9JYt_afQ"
      }
    },
    {
      "cell_type": "markdown",
      "source": [
        "###*showcase4*"
      ],
      "metadata": {
        "id": "7PQ1SizgBFc_"
      }
    },
    {
      "cell_type": "code",
      "source": [
        "print(\"this is panda.\")"
      ],
      "metadata": {
        "colab": {
          "base_uri": "https://localhost:8080/"
        },
        "id": "OOKpiMnSBHEX",
        "outputId": "7c79104d-2ae9-4257-d9e1-6a0e7b1a0b21"
      },
      "execution_count": 10,
      "outputs": [
        {
          "output_type": "stream",
          "name": "stdout",
          "text": [
            "this is panda.\n"
          ]
        }
      ]
    }
  ]
}